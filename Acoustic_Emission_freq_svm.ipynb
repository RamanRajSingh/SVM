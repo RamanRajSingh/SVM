{
 "cells": [
  {
   "cell_type": "markdown",
   "id": "bc33d43e",
   "metadata": {},
   "source": [
    "# Importing required libraries"
   ]
  },
  {
   "cell_type": "code",
   "execution_count": 1,
   "id": "75cf6a88",
   "metadata": {},
   "outputs": [],
   "source": [
    "import pandas as pd\n",
    "import matplotlib.pyplot as plt\n",
    "import seaborn as sns\n",
    "from sklearn.model_selection import train_test_split\n",
    "from sklearn.svm import SVR\n",
    "from sklearn.metrics import mean_squared_error, mean_absolute_error, r2_score"
   ]
  },
  {
   "cell_type": "markdown",
   "id": "af30b35d",
   "metadata": {},
   "source": [
    "# Loading The Dataset and displaying contents"
   ]
  },
  {
   "cell_type": "code",
   "execution_count": 2,
   "id": "e67e6b07",
   "metadata": {},
   "outputs": [],
   "source": [
    "data=pd.read_excel('analysis_freq.xlsx')"
   ]
  },
  {
   "cell_type": "code",
   "execution_count": 3,
   "id": "ca2586ba",
   "metadata": {
    "scrolled": true
   },
   "outputs": [
    {
     "data": {
      "text/html": [
       "<div>\n",
       "<style scoped>\n",
       "    .dataframe tbody tr th:only-of-type {\n",
       "        vertical-align: middle;\n",
       "    }\n",
       "\n",
       "    .dataframe tbody tr th {\n",
       "        vertical-align: top;\n",
       "    }\n",
       "\n",
       "    .dataframe thead th {\n",
       "        text-align: right;\n",
       "    }\n",
       "</style>\n",
       "<table border=\"1\" class=\"dataframe\">\n",
       "  <thead>\n",
       "    <tr style=\"text-align: right;\">\n",
       "      <th></th>\n",
       "      <th>0.5mm(amp)</th>\n",
       "      <th>0.5(freq)</th>\n",
       "      <th>1mm(amp)</th>\n",
       "      <th>1(freq)</th>\n",
       "      <th>2mm(amp)</th>\n",
       "      <th>2(freq)</th>\n",
       "      <th>3mm(amp)</th>\n",
       "      <th>3(freq)</th>\n",
       "      <th>4mm(amp)</th>\n",
       "      <th>4(freq)</th>\n",
       "      <th>5mm(amp)</th>\n",
       "      <th>5(freq)</th>\n",
       "    </tr>\n",
       "  </thead>\n",
       "  <tbody>\n",
       "    <tr>\n",
       "      <th>0</th>\n",
       "      <td>4.769968</td>\n",
       "      <td>151.083067</td>\n",
       "      <td>5.599611</td>\n",
       "      <td>115.379825</td>\n",
       "      <td>5.509277</td>\n",
       "      <td>123.877915</td>\n",
       "      <td>5.590371</td>\n",
       "      <td>119.375506</td>\n",
       "      <td>5.268048</td>\n",
       "      <td>122.369164</td>\n",
       "      <td>5.706659</td>\n",
       "      <td>121.942857</td>\n",
       "    </tr>\n",
       "    <tr>\n",
       "      <th>1</th>\n",
       "      <td>4.626305</td>\n",
       "      <td>145.123173</td>\n",
       "      <td>5.614125</td>\n",
       "      <td>117.712892</td>\n",
       "      <td>5.563828</td>\n",
       "      <td>126.385436</td>\n",
       "      <td>5.568672</td>\n",
       "      <td>127.600208</td>\n",
       "      <td>5.378936</td>\n",
       "      <td>124.617869</td>\n",
       "      <td>5.751337</td>\n",
       "      <td>114.783962</td>\n",
       "    </tr>\n",
       "    <tr>\n",
       "      <th>2</th>\n",
       "      <td>4.700993</td>\n",
       "      <td>125.673697</td>\n",
       "      <td>5.765553</td>\n",
       "      <td>122.949516</td>\n",
       "      <td>5.522897</td>\n",
       "      <td>111.962375</td>\n",
       "      <td>5.590042</td>\n",
       "      <td>128.729120</td>\n",
       "      <td>5.521653</td>\n",
       "      <td>135.582505</td>\n",
       "      <td>5.804444</td>\n",
       "      <td>125.330394</td>\n",
       "    </tr>\n",
       "    <tr>\n",
       "      <th>3</th>\n",
       "      <td>4.867828</td>\n",
       "      <td>127.110656</td>\n",
       "      <td>5.766779</td>\n",
       "      <td>135.255847</td>\n",
       "      <td>5.423711</td>\n",
       "      <td>133.030562</td>\n",
       "      <td>5.599939</td>\n",
       "      <td>139.276596</td>\n",
       "      <td>5.630483</td>\n",
       "      <td>124.353349</td>\n",
       "      <td>5.814724</td>\n",
       "      <td>125.209096</td>\n",
       "    </tr>\n",
       "    <tr>\n",
       "      <th>4</th>\n",
       "      <td>4.789515</td>\n",
       "      <td>119.671168</td>\n",
       "      <td>5.623718</td>\n",
       "      <td>136.965070</td>\n",
       "      <td>5.393339</td>\n",
       "      <td>121.492703</td>\n",
       "      <td>5.626181</td>\n",
       "      <td>122.447631</td>\n",
       "      <td>5.698217</td>\n",
       "      <td>116.403005</td>\n",
       "      <td>5.875899</td>\n",
       "      <td>118.776776</td>\n",
       "    </tr>\n",
       "    <tr>\n",
       "      <th>5</th>\n",
       "      <td>5.132128</td>\n",
       "      <td>102.871349</td>\n",
       "      <td>5.583130</td>\n",
       "      <td>124.827898</td>\n",
       "      <td>5.309975</td>\n",
       "      <td>120.977155</td>\n",
       "      <td>5.651336</td>\n",
       "      <td>109.880196</td>\n",
       "      <td>5.796277</td>\n",
       "      <td>121.432950</td>\n",
       "      <td>6.032838</td>\n",
       "      <td>122.626667</td>\n",
       "    </tr>\n",
       "    <tr>\n",
       "      <th>6</th>\n",
       "      <td>4.974270</td>\n",
       "      <td>130.173157</td>\n",
       "      <td>5.540886</td>\n",
       "      <td>114.214592</td>\n",
       "      <td>5.415180</td>\n",
       "      <td>121.953067</td>\n",
       "      <td>5.723109</td>\n",
       "      <td>125.429437</td>\n",
       "      <td>5.878625</td>\n",
       "      <td>115.907369</td>\n",
       "      <td>6.138896</td>\n",
       "      <td>132.208281</td>\n",
       "    </tr>\n",
       "    <tr>\n",
       "      <th>7</th>\n",
       "      <td>5.400324</td>\n",
       "      <td>125.814155</td>\n",
       "      <td>5.445748</td>\n",
       "      <td>125.120581</td>\n",
       "      <td>5.421538</td>\n",
       "      <td>119.266899</td>\n",
       "      <td>5.807013</td>\n",
       "      <td>127.895115</td>\n",
       "      <td>6.087462</td>\n",
       "      <td>133.852970</td>\n",
       "      <td>6.372026</td>\n",
       "      <td>118.389429</td>\n",
       "    </tr>\n",
       "    <tr>\n",
       "      <th>8</th>\n",
       "      <td>5.170366</td>\n",
       "      <td>129.498890</td>\n",
       "      <td>5.510459</td>\n",
       "      <td>116.946801</td>\n",
       "      <td>5.492639</td>\n",
       "      <td>126.789222</td>\n",
       "      <td>5.956821</td>\n",
       "      <td>127.072837</td>\n",
       "      <td>6.288648</td>\n",
       "      <td>121.294783</td>\n",
       "      <td>6.551025</td>\n",
       "      <td>115.730150</td>\n",
       "    </tr>\n",
       "    <tr>\n",
       "      <th>9</th>\n",
       "      <td>5.243034</td>\n",
       "      <td>122.703818</td>\n",
       "      <td>5.485095</td>\n",
       "      <td>127.442191</td>\n",
       "      <td>5.657863</td>\n",
       "      <td>122.725575</td>\n",
       "      <td>6.120979</td>\n",
       "      <td>118.367058</td>\n",
       "      <td>6.471039</td>\n",
       "      <td>107.465904</td>\n",
       "      <td>6.819553</td>\n",
       "      <td>125.331846</td>\n",
       "    </tr>\n",
       "    <tr>\n",
       "      <th>10</th>\n",
       "      <td>5.009595</td>\n",
       "      <td>125.500209</td>\n",
       "      <td>5.387669</td>\n",
       "      <td>114.362319</td>\n",
       "      <td>5.663376</td>\n",
       "      <td>138.769301</td>\n",
       "      <td>6.235520</td>\n",
       "      <td>120.004968</td>\n",
       "      <td>6.659733</td>\n",
       "      <td>120.139595</td>\n",
       "      <td>7.090495</td>\n",
       "      <td>122.960385</td>\n",
       "    </tr>\n",
       "    <tr>\n",
       "      <th>11</th>\n",
       "      <td>5.157068</td>\n",
       "      <td>113.065271</td>\n",
       "      <td>5.505179</td>\n",
       "      <td>120.918033</td>\n",
       "      <td>5.713420</td>\n",
       "      <td>133.547942</td>\n",
       "      <td>6.403682</td>\n",
       "      <td>122.292095</td>\n",
       "      <td>6.834461</td>\n",
       "      <td>123.419434</td>\n",
       "      <td>7.395195</td>\n",
       "      <td>121.600636</td>\n",
       "    </tr>\n",
       "    <tr>\n",
       "      <th>12</th>\n",
       "      <td>5.214847</td>\n",
       "      <td>128.287918</td>\n",
       "      <td>5.372327</td>\n",
       "      <td>119.546458</td>\n",
       "      <td>5.757872</td>\n",
       "      <td>126.723562</td>\n",
       "      <td>6.475920</td>\n",
       "      <td>116.606281</td>\n",
       "      <td>7.172253</td>\n",
       "      <td>106.376082</td>\n",
       "      <td>7.756959</td>\n",
       "      <td>112.105734</td>\n",
       "    </tr>\n",
       "    <tr>\n",
       "      <th>13</th>\n",
       "      <td>5.198756</td>\n",
       "      <td>127.278163</td>\n",
       "      <td>5.488776</td>\n",
       "      <td>135.513097</td>\n",
       "      <td>5.716634</td>\n",
       "      <td>127.342830</td>\n",
       "      <td>6.618481</td>\n",
       "      <td>101.161002</td>\n",
       "      <td>7.517153</td>\n",
       "      <td>107.321627</td>\n",
       "      <td>8.141814</td>\n",
       "      <td>126.133468</td>\n",
       "    </tr>\n",
       "    <tr>\n",
       "      <th>14</th>\n",
       "      <td>5.271255</td>\n",
       "      <td>123.811421</td>\n",
       "      <td>5.562289</td>\n",
       "      <td>104.296590</td>\n",
       "      <td>5.733933</td>\n",
       "      <td>127.135697</td>\n",
       "      <td>6.683720</td>\n",
       "      <td>109.552402</td>\n",
       "      <td>7.942124</td>\n",
       "      <td>91.731935</td>\n",
       "      <td>8.548252</td>\n",
       "      <td>106.526316</td>\n",
       "    </tr>\n",
       "    <tr>\n",
       "      <th>15</th>\n",
       "      <td>5.143849</td>\n",
       "      <td>128.744444</td>\n",
       "      <td>5.386100</td>\n",
       "      <td>116.045991</td>\n",
       "      <td>5.819046</td>\n",
       "      <td>122.646147</td>\n",
       "      <td>6.721244</td>\n",
       "      <td>110.602676</td>\n",
       "      <td>8.244898</td>\n",
       "      <td>100.333971</td>\n",
       "      <td>8.834563</td>\n",
       "      <td>110.647143</td>\n",
       "    </tr>\n",
       "    <tr>\n",
       "      <th>16</th>\n",
       "      <td>5.292544</td>\n",
       "      <td>127.829321</td>\n",
       "      <td>5.371378</td>\n",
       "      <td>112.167445</td>\n",
       "      <td>5.863816</td>\n",
       "      <td>125.989688</td>\n",
       "      <td>6.816991</td>\n",
       "      <td>100.238411</td>\n",
       "      <td>8.618885</td>\n",
       "      <td>98.400613</td>\n",
       "      <td>9.238608</td>\n",
       "      <td>98.734499</td>\n",
       "    </tr>\n",
       "    <tr>\n",
       "      <th>17</th>\n",
       "      <td>5.262086</td>\n",
       "      <td>129.866069</td>\n",
       "      <td>5.599762</td>\n",
       "      <td>131.322314</td>\n",
       "      <td>5.886142</td>\n",
       "      <td>132.591429</td>\n",
       "      <td>6.861488</td>\n",
       "      <td>110.817333</td>\n",
       "      <td>9.012129</td>\n",
       "      <td>92.424360</td>\n",
       "      <td>9.603992</td>\n",
       "      <td>93.296793</td>\n",
       "    </tr>\n",
       "    <tr>\n",
       "      <th>18</th>\n",
       "      <td>5.306107</td>\n",
       "      <td>126.362437</td>\n",
       "      <td>5.903253</td>\n",
       "      <td>114.963866</td>\n",
       "      <td>5.914169</td>\n",
       "      <td>113.549008</td>\n",
       "      <td>7.017237</td>\n",
       "      <td>101.409360</td>\n",
       "      <td>9.358529</td>\n",
       "      <td>88.308773</td>\n",
       "      <td>10.134601</td>\n",
       "      <td>77.162906</td>\n",
       "    </tr>\n",
       "    <tr>\n",
       "      <th>19</th>\n",
       "      <td>5.285970</td>\n",
       "      <td>131.947423</td>\n",
       "      <td>5.669214</td>\n",
       "      <td>116.969459</td>\n",
       "      <td>5.869226</td>\n",
       "      <td>123.503065</td>\n",
       "      <td>7.153519</td>\n",
       "      <td>106.360904</td>\n",
       "      <td>9.830946</td>\n",
       "      <td>79.007299</td>\n",
       "      <td>10.567021</td>\n",
       "      <td>79.567792</td>\n",
       "    </tr>\n",
       "    <tr>\n",
       "      <th>20</th>\n",
       "      <td>5.303212</td>\n",
       "      <td>134.106145</td>\n",
       "      <td>5.481472</td>\n",
       "      <td>113.186642</td>\n",
       "      <td>5.856835</td>\n",
       "      <td>119.316031</td>\n",
       "      <td>7.278182</td>\n",
       "      <td>100.200619</td>\n",
       "      <td>10.205199</td>\n",
       "      <td>67.869526</td>\n",
       "      <td>11.050650</td>\n",
       "      <td>72.191205</td>\n",
       "    </tr>\n",
       "    <tr>\n",
       "      <th>21</th>\n",
       "      <td>5.257395</td>\n",
       "      <td>129.606746</td>\n",
       "      <td>5.595208</td>\n",
       "      <td>111.486609</td>\n",
       "      <td>5.891472</td>\n",
       "      <td>122.251626</td>\n",
       "      <td>7.492340</td>\n",
       "      <td>102.285936</td>\n",
       "      <td>10.530920</td>\n",
       "      <td>64.149577</td>\n",
       "      <td>11.509461</td>\n",
       "      <td>63.805613</td>\n",
       "    </tr>\n",
       "    <tr>\n",
       "      <th>22</th>\n",
       "      <td>5.065914</td>\n",
       "      <td>135.510565</td>\n",
       "      <td>5.662388</td>\n",
       "      <td>118.172507</td>\n",
       "      <td>5.927276</td>\n",
       "      <td>122.133991</td>\n",
       "      <td>7.571048</td>\n",
       "      <td>101.612624</td>\n",
       "      <td>10.916702</td>\n",
       "      <td>64.270459</td>\n",
       "      <td>11.929377</td>\n",
       "      <td>62.700416</td>\n",
       "    </tr>\n",
       "    <tr>\n",
       "      <th>23</th>\n",
       "      <td>5.448443</td>\n",
       "      <td>126.868806</td>\n",
       "      <td>5.545345</td>\n",
       "      <td>129.048436</td>\n",
       "      <td>6.023952</td>\n",
       "      <td>118.599659</td>\n",
       "      <td>7.726094</td>\n",
       "      <td>89.264365</td>\n",
       "      <td>11.322477</td>\n",
       "      <td>61.066842</td>\n",
       "      <td>12.515385</td>\n",
       "      <td>62.229195</td>\n",
       "    </tr>\n",
       "    <tr>\n",
       "      <th>24</th>\n",
       "      <td>5.210367</td>\n",
       "      <td>137.287095</td>\n",
       "      <td>5.532676</td>\n",
       "      <td>129.518087</td>\n",
       "      <td>6.135171</td>\n",
       "      <td>121.787122</td>\n",
       "      <td>7.790665</td>\n",
       "      <td>81.914222</td>\n",
       "      <td>11.642325</td>\n",
       "      <td>54.749866</td>\n",
       "      <td>13.239125</td>\n",
       "      <td>69.502219</td>\n",
       "    </tr>\n",
       "    <tr>\n",
       "      <th>25</th>\n",
       "      <td>5.439899</td>\n",
       "      <td>129.840869</td>\n",
       "      <td>5.631510</td>\n",
       "      <td>133.294278</td>\n",
       "      <td>6.267983</td>\n",
       "      <td>121.931970</td>\n",
       "      <td>7.774901</td>\n",
       "      <td>84.050715</td>\n",
       "      <td>12.084896</td>\n",
       "      <td>61.901862</td>\n",
       "      <td>14.420337</td>\n",
       "      <td>65.996506</td>\n",
       "    </tr>\n",
       "    <tr>\n",
       "      <th>26</th>\n",
       "      <td>5.374523</td>\n",
       "      <td>137.184208</td>\n",
       "      <td>5.622926</td>\n",
       "      <td>125.011521</td>\n",
       "      <td>6.471610</td>\n",
       "      <td>127.857217</td>\n",
       "      <td>7.937209</td>\n",
       "      <td>82.536080</td>\n",
       "      <td>12.704721</td>\n",
       "      <td>51.566324</td>\n",
       "      <td>15.779841</td>\n",
       "      <td>37.425926</td>\n",
       "    </tr>\n",
       "    <tr>\n",
       "      <th>27</th>\n",
       "      <td>5.271089</td>\n",
       "      <td>127.105765</td>\n",
       "      <td>5.635864</td>\n",
       "      <td>128.066145</td>\n",
       "      <td>6.552324</td>\n",
       "      <td>113.643152</td>\n",
       "      <td>8.010079</td>\n",
       "      <td>88.053854</td>\n",
       "      <td>13.173184</td>\n",
       "      <td>41.804507</td>\n",
       "      <td>16.702589</td>\n",
       "      <td>44.735043</td>\n",
       "    </tr>\n",
       "    <tr>\n",
       "      <th>28</th>\n",
       "      <td>5.215089</td>\n",
       "      <td>130.819648</td>\n",
       "      <td>5.777807</td>\n",
       "      <td>128.252711</td>\n",
       "      <td>6.599958</td>\n",
       "      <td>112.686442</td>\n",
       "      <td>8.162608</td>\n",
       "      <td>82.125660</td>\n",
       "      <td>13.497977</td>\n",
       "      <td>50.266711</td>\n",
       "      <td>17.687276</td>\n",
       "      <td>36.181481</td>\n",
       "    </tr>\n",
       "    <tr>\n",
       "      <th>29</th>\n",
       "      <td>5.262516</td>\n",
       "      <td>133.576911</td>\n",
       "      <td>5.968955</td>\n",
       "      <td>125.233295</td>\n",
       "      <td>6.552171</td>\n",
       "      <td>102.642462</td>\n",
       "      <td>8.189719</td>\n",
       "      <td>93.930757</td>\n",
       "      <td>13.976196</td>\n",
       "      <td>45.512360</td>\n",
       "      <td>18.937977</td>\n",
       "      <td>43.796813</td>\n",
       "    </tr>\n",
       "    <tr>\n",
       "      <th>30</th>\n",
       "      <td>5.290702</td>\n",
       "      <td>134.102554</td>\n",
       "      <td>5.940049</td>\n",
       "      <td>124.846115</td>\n",
       "      <td>6.575302</td>\n",
       "      <td>105.471426</td>\n",
       "      <td>8.310455</td>\n",
       "      <td>84.333692</td>\n",
       "      <td>14.121048</td>\n",
       "      <td>27.644956</td>\n",
       "      <td>20.633017</td>\n",
       "      <td>32.942966</td>\n",
       "    </tr>\n",
       "    <tr>\n",
       "      <th>31</th>\n",
       "      <td>5.303461</td>\n",
       "      <td>136.309920</td>\n",
       "      <td>5.873629</td>\n",
       "      <td>124.486596</td>\n",
       "      <td>6.660302</td>\n",
       "      <td>108.988533</td>\n",
       "      <td>8.473522</td>\n",
       "      <td>76.079237</td>\n",
       "      <td>14.288315</td>\n",
       "      <td>44.376133</td>\n",
       "      <td>21.945697</td>\n",
       "      <td>34.875796</td>\n",
       "    </tr>\n",
       "  </tbody>\n",
       "</table>\n",
       "</div>"
      ],
      "text/plain": [
       "    0.5mm(amp)   0.5(freq)  1mm(amp)     1(freq)  2mm(amp)     2(freq)  \\\n",
       "0     4.769968  151.083067  5.599611  115.379825  5.509277  123.877915   \n",
       "1     4.626305  145.123173  5.614125  117.712892  5.563828  126.385436   \n",
       "2     4.700993  125.673697  5.765553  122.949516  5.522897  111.962375   \n",
       "3     4.867828  127.110656  5.766779  135.255847  5.423711  133.030562   \n",
       "4     4.789515  119.671168  5.623718  136.965070  5.393339  121.492703   \n",
       "5     5.132128  102.871349  5.583130  124.827898  5.309975  120.977155   \n",
       "6     4.974270  130.173157  5.540886  114.214592  5.415180  121.953067   \n",
       "7     5.400324  125.814155  5.445748  125.120581  5.421538  119.266899   \n",
       "8     5.170366  129.498890  5.510459  116.946801  5.492639  126.789222   \n",
       "9     5.243034  122.703818  5.485095  127.442191  5.657863  122.725575   \n",
       "10    5.009595  125.500209  5.387669  114.362319  5.663376  138.769301   \n",
       "11    5.157068  113.065271  5.505179  120.918033  5.713420  133.547942   \n",
       "12    5.214847  128.287918  5.372327  119.546458  5.757872  126.723562   \n",
       "13    5.198756  127.278163  5.488776  135.513097  5.716634  127.342830   \n",
       "14    5.271255  123.811421  5.562289  104.296590  5.733933  127.135697   \n",
       "15    5.143849  128.744444  5.386100  116.045991  5.819046  122.646147   \n",
       "16    5.292544  127.829321  5.371378  112.167445  5.863816  125.989688   \n",
       "17    5.262086  129.866069  5.599762  131.322314  5.886142  132.591429   \n",
       "18    5.306107  126.362437  5.903253  114.963866  5.914169  113.549008   \n",
       "19    5.285970  131.947423  5.669214  116.969459  5.869226  123.503065   \n",
       "20    5.303212  134.106145  5.481472  113.186642  5.856835  119.316031   \n",
       "21    5.257395  129.606746  5.595208  111.486609  5.891472  122.251626   \n",
       "22    5.065914  135.510565  5.662388  118.172507  5.927276  122.133991   \n",
       "23    5.448443  126.868806  5.545345  129.048436  6.023952  118.599659   \n",
       "24    5.210367  137.287095  5.532676  129.518087  6.135171  121.787122   \n",
       "25    5.439899  129.840869  5.631510  133.294278  6.267983  121.931970   \n",
       "26    5.374523  137.184208  5.622926  125.011521  6.471610  127.857217   \n",
       "27    5.271089  127.105765  5.635864  128.066145  6.552324  113.643152   \n",
       "28    5.215089  130.819648  5.777807  128.252711  6.599958  112.686442   \n",
       "29    5.262516  133.576911  5.968955  125.233295  6.552171  102.642462   \n",
       "30    5.290702  134.102554  5.940049  124.846115  6.575302  105.471426   \n",
       "31    5.303461  136.309920  5.873629  124.486596  6.660302  108.988533   \n",
       "\n",
       "    3mm(amp)     3(freq)   4mm(amp)     4(freq)   5mm(amp)     5(freq)  \n",
       "0   5.590371  119.375506   5.268048  122.369164   5.706659  121.942857  \n",
       "1   5.568672  127.600208   5.378936  124.617869   5.751337  114.783962  \n",
       "2   5.590042  128.729120   5.521653  135.582505   5.804444  125.330394  \n",
       "3   5.599939  139.276596   5.630483  124.353349   5.814724  125.209096  \n",
       "4   5.626181  122.447631   5.698217  116.403005   5.875899  118.776776  \n",
       "5   5.651336  109.880196   5.796277  121.432950   6.032838  122.626667  \n",
       "6   5.723109  125.429437   5.878625  115.907369   6.138896  132.208281  \n",
       "7   5.807013  127.895115   6.087462  133.852970   6.372026  118.389429  \n",
       "8   5.956821  127.072837   6.288648  121.294783   6.551025  115.730150  \n",
       "9   6.120979  118.367058   6.471039  107.465904   6.819553  125.331846  \n",
       "10  6.235520  120.004968   6.659733  120.139595   7.090495  122.960385  \n",
       "11  6.403682  122.292095   6.834461  123.419434   7.395195  121.600636  \n",
       "12  6.475920  116.606281   7.172253  106.376082   7.756959  112.105734  \n",
       "13  6.618481  101.161002   7.517153  107.321627   8.141814  126.133468  \n",
       "14  6.683720  109.552402   7.942124   91.731935   8.548252  106.526316  \n",
       "15  6.721244  110.602676   8.244898  100.333971   8.834563  110.647143  \n",
       "16  6.816991  100.238411   8.618885   98.400613   9.238608   98.734499  \n",
       "17  6.861488  110.817333   9.012129   92.424360   9.603992   93.296793  \n",
       "18  7.017237  101.409360   9.358529   88.308773  10.134601   77.162906  \n",
       "19  7.153519  106.360904   9.830946   79.007299  10.567021   79.567792  \n",
       "20  7.278182  100.200619  10.205199   67.869526  11.050650   72.191205  \n",
       "21  7.492340  102.285936  10.530920   64.149577  11.509461   63.805613  \n",
       "22  7.571048  101.612624  10.916702   64.270459  11.929377   62.700416  \n",
       "23  7.726094   89.264365  11.322477   61.066842  12.515385   62.229195  \n",
       "24  7.790665   81.914222  11.642325   54.749866  13.239125   69.502219  \n",
       "25  7.774901   84.050715  12.084896   61.901862  14.420337   65.996506  \n",
       "26  7.937209   82.536080  12.704721   51.566324  15.779841   37.425926  \n",
       "27  8.010079   88.053854  13.173184   41.804507  16.702589   44.735043  \n",
       "28  8.162608   82.125660  13.497977   50.266711  17.687276   36.181481  \n",
       "29  8.189719   93.930757  13.976196   45.512360  18.937977   43.796813  \n",
       "30  8.310455   84.333692  14.121048   27.644956  20.633017   32.942966  \n",
       "31  8.473522   76.079237  14.288315   44.376133  21.945697   34.875796  "
      ]
     },
     "execution_count": 3,
     "metadata": {},
     "output_type": "execute_result"
    }
   ],
   "source": [
    "data"
   ]
  },
  {
   "cell_type": "code",
   "execution_count": 4,
   "id": "42231767",
   "metadata": {},
   "outputs": [
    {
     "name": "stdout",
     "output_type": "stream",
     "text": [
      "<class 'pandas.core.frame.DataFrame'>\n",
      "RangeIndex: 32 entries, 0 to 31\n",
      "Data columns (total 12 columns):\n",
      " #   Column      Non-Null Count  Dtype  \n",
      "---  ------      --------------  -----  \n",
      " 0   0.5mm(amp)  32 non-null     float64\n",
      " 1   0.5(freq)   32 non-null     float64\n",
      " 2   1mm(amp)    32 non-null     float64\n",
      " 3   1(freq)     32 non-null     float64\n",
      " 4   2mm(amp)    32 non-null     float64\n",
      " 5   2(freq)     32 non-null     float64\n",
      " 6   3mm(amp)    32 non-null     float64\n",
      " 7   3(freq)     32 non-null     float64\n",
      " 8   4mm(amp)    32 non-null     float64\n",
      " 9   4(freq)     32 non-null     float64\n",
      " 10  5mm(amp)    32 non-null     float64\n",
      " 11  5(freq)     32 non-null     float64\n",
      "dtypes: float64(12)\n",
      "memory usage: 3.1 KB\n"
     ]
    }
   ],
   "source": [
    "data.info()"
   ]
  },
  {
   "cell_type": "code",
   "execution_count": 5,
   "id": "9af27d24",
   "metadata": {
    "scrolled": true
   },
   "outputs": [
    {
     "data": {
      "text/plain": [
       "count     32.000000\n",
       "mean     129.210470\n",
       "std        8.449900\n",
       "min      102.871349\n",
       "25%      126.225366\n",
       "50%      129.121667\n",
       "75%      133.708322\n",
       "max      151.083067\n",
       "Name: 0.5(freq), dtype: float64"
      ]
     },
     "execution_count": 5,
     "metadata": {},
     "output_type": "execute_result"
    }
   ],
   "source": [
    "data['0.5(freq)'].describe()"
   ]
  },
  {
   "cell_type": "markdown",
   "id": "dc0fae3a",
   "metadata": {},
   "source": [
    "# Getting additional Information through visualisation"
   ]
  },
  {
   "cell_type": "code",
   "execution_count": 6,
   "id": "7b97573e",
   "metadata": {},
   "outputs": [
    {
     "data": {
      "text/plain": [
       "<matplotlib.collections.PathCollection at 0x21bc5a5afa0>"
      ]
     },
     "execution_count": 6,
     "metadata": {},
     "output_type": "execute_result"
    },
    {
     "data": {
      "image/png": "[encoded data removed]",
      "text/plain": [
       "<Figure size 432x288 with 1 Axes>"
      ]
     },
     "metadata": {
      "needs_background": "light"
     },
     "output_type": "display_data"
    }
   ],
   "source": [
    "a=list()\n",
    "for i in range(32):\n",
    "    a.append(i)   \n",
    "plt.scatter(x=a,y=data['0.5(freq)'])"
   ]
  },
  {
   "cell_type": "code",
   "execution_count": 7,
   "id": "b1301cb4",
   "metadata": {},
   "outputs": [
    {
     "data": {
      "text/plain": [
       "<AxesSubplot:xlabel='0.5(freq)'>"
      ]
     },
     "execution_count": 7,
     "metadata": {},
     "output_type": "execute_result"
    },
    {
     "data": {
      "image/png": "[encoded data removed]",
      "text/plain": [
       "<Figure size 432x288 with 1 Axes>"
      ]
     },
     "metadata": {
      "needs_background": "light"
     },
     "output_type": "display_data"
    }
   ],
   "source": [
    "sns.boxplot(x=data['0.5(freq)'])"
   ]
  },
  {
   "cell_type": "markdown",
   "id": "3d84bf10",
   "metadata": {},
   "source": [
    "# Treating anomalies"
   ]
  },
  {
   "cell_type": "code",
   "execution_count": 8,
   "id": "91cc0973",
   "metadata": {},
   "outputs": [
    {
     "data": {
      "text/plain": [
       "(126.22536637754642, 133.7083220578861)"
      ]
     },
     "execution_count": 8,
     "metadata": {},
     "output_type": "execute_result"
    }
   ],
   "source": [
    "q1=data['0.5(freq)'].quantile(.25)\n",
    "q3=data['0.5(freq)'].quantile(.75)\n",
    "q1,q3"
   ]
  },
  {
   "cell_type": "code",
   "execution_count": 9,
   "id": "30435405",
   "metadata": {},
   "outputs": [
    {
     "data": {
      "text/plain": [
       "7.4829556803396855"
      ]
     },
     "execution_count": 9,
     "metadata": {},
     "output_type": "execute_result"
    }
   ],
   "source": [
    "iqr=q3-q1\n",
    "iqr"
   ]
  },
  {
   "cell_type": "code",
   "execution_count": 10,
   "id": "c24b9018",
   "metadata": {},
   "outputs": [
    {
     "data": {
      "text/plain": [
       "(144.93275557839564, 115.0009328570369)"
      ]
     },
     "execution_count": 10,
     "metadata": {},
     "output_type": "execute_result"
    }
   ],
   "source": [
    "upper_limit=q3+1.5*iqr\n",
    "lower_limit=q1-1.5*iqr\n",
    "upper_limit,lower_limit"
   ]
  },
  {
   "cell_type": "code",
   "execution_count": 11,
   "id": "5c85ac9d",
   "metadata": {},
   "outputs": [],
   "source": [
    "def limit_imputer(value):\n",
    "    if value>upper_limit:\n",
    "        return upper_limit\n",
    "    if value<lower_limit:\n",
    "        return lower_limit\n",
    "    else:\n",
    "        return value"
   ]
  },
  {
   "cell_type": "code",
   "execution_count": 12,
   "id": "43eb3f0c",
   "metadata": {},
   "outputs": [],
   "source": [
    "data['0.5(freq)']=data['0.5(freq)'].apply(limit_imputer)"
   ]
  },
  {
   "cell_type": "code",
   "execution_count": 13,
   "id": "d31fe4d3",
   "metadata": {},
   "outputs": [
    {
     "data": {
      "text/plain": [
       "count     32.000000\n",
       "mean     129.451861\n",
       "std        6.776910\n",
       "min      115.000933\n",
       "25%      126.225366\n",
       "50%      129.121667\n",
       "75%      133.708322\n",
       "max      144.932756\n",
       "Name: 0.5(freq), dtype: float64"
      ]
     },
     "execution_count": 13,
     "metadata": {},
     "output_type": "execute_result"
    }
   ],
   "source": [
    "data['0.5(freq)'].describe()"
   ]
  },
  {
   "cell_type": "code",
   "execution_count": 14,
   "id": "4d9ae8ea",
   "metadata": {},
   "outputs": [
    {
     "data": {
      "text/plain": [
       "<AxesSubplot:xlabel='0.5(freq)'>"
      ]
     },
     "execution_count": 14,
     "metadata": {},
     "output_type": "execute_result"
    },
    {
     "data": {
      "image/png": "[encoded data removed]",
      "text/plain": [
       "<Figure size 432x288 with 1 Axes>"
      ]
     },
     "metadata": {
      "needs_background": "light"
     },
     "output_type": "display_data"
    }
   ],
   "source": [
    "sns.boxplot(x=data['0.5(freq)'])"
   ]
  },
  {
   "cell_type": "code",
   "execution_count": 15,
   "id": "73940e63",
   "metadata": {},
   "outputs": [
    {
     "data": {
      "text/plain": [
       "<matplotlib.collections.PathCollection at 0x21bc62f0310>"
      ]
     },
     "execution_count": 15,
     "metadata": {},
     "output_type": "execute_result"
    },
    {
     "data": {
      "image/png": "[encoded data removed]",
      "text/plain": [
       "<Figure size 432x288 with 1 Axes>"
      ]
     },
     "metadata": {
      "needs_background": "light"
     },
     "output_type": "display_data"
    }
   ],
   "source": [
    "plt.scatter(x=data['0.5mm(amp)'],y=data['0.5(freq)'])"
   ]
  },
  {
   "cell_type": "markdown",
   "id": "467d3911",
   "metadata": {},
   "source": [
    "# Getting correlation between various variables"
   ]
  },
  {
   "cell_type": "code",
   "execution_count": 16,
   "id": "a582763c",
   "metadata": {},
   "outputs": [
    {
     "data": {
      "text/html": [
       "<div>\n",
       "<style scoped>\n",
       "    .dataframe tbody tr th:only-of-type {\n",
       "        vertical-align: middle;\n",
       "    }\n",
       "\n",
       "    .dataframe tbody tr th {\n",
       "        vertical-align: top;\n",
       "    }\n",
       "\n",
       "    .dataframe thead th {\n",
       "        text-align: right;\n",
       "    }\n",
       "</style>\n",
       "<table border=\"1\" class=\"dataframe\">\n",
       "  <thead>\n",
       "    <tr style=\"text-align: right;\">\n",
       "      <th></th>\n",
       "      <th>0.5mm(amp)</th>\n",
       "      <th>0.5(freq)</th>\n",
       "      <th>1mm(amp)</th>\n",
       "      <th>1(freq)</th>\n",
       "      <th>2mm(amp)</th>\n",
       "      <th>2(freq)</th>\n",
       "      <th>3mm(amp)</th>\n",
       "      <th>3(freq)</th>\n",
       "      <th>4mm(amp)</th>\n",
       "      <th>4(freq)</th>\n",
       "      <th>5mm(amp)</th>\n",
       "      <th>5(freq)</th>\n",
       "    </tr>\n",
       "  </thead>\n",
       "  <tbody>\n",
       "    <tr>\n",
       "      <th>0.5mm(amp)</th>\n",
       "      <td>1.000000</td>\n",
       "      <td>-0.146323</td>\n",
       "      <td>-0.032309</td>\n",
       "      <td>0.028854</td>\n",
       "      <td>0.545110</td>\n",
       "      <td>-0.199983</td>\n",
       "      <td>0.671611</td>\n",
       "      <td>-0.644586</td>\n",
       "      <td>0.626290</td>\n",
       "      <td>-0.592310</td>\n",
       "      <td>0.546443</td>\n",
       "      <td>-0.552625</td>\n",
       "    </tr>\n",
       "    <tr>\n",
       "      <th>0.5(freq)</th>\n",
       "      <td>-0.146323</td>\n",
       "      <td>1.000000</td>\n",
       "      <td>0.235082</td>\n",
       "      <td>-0.149393</td>\n",
       "      <td>0.348404</td>\n",
       "      <td>-0.187529</td>\n",
       "      <td>0.296081</td>\n",
       "      <td>-0.281866</td>\n",
       "      <td>0.322197</td>\n",
       "      <td>-0.355097</td>\n",
       "      <td>0.337149</td>\n",
       "      <td>-0.390062</td>\n",
       "    </tr>\n",
       "    <tr>\n",
       "      <th>1mm(amp)</th>\n",
       "      <td>-0.032309</td>\n",
       "      <td>0.235082</td>\n",
       "      <td>1.000000</td>\n",
       "      <td>0.234579</td>\n",
       "      <td>0.504923</td>\n",
       "      <td>-0.684974</td>\n",
       "      <td>0.416853</td>\n",
       "      <td>-0.336996</td>\n",
       "      <td>0.499523</td>\n",
       "      <td>-0.470293</td>\n",
       "      <td>0.580678</td>\n",
       "      <td>-0.554387</td>\n",
       "    </tr>\n",
       "    <tr>\n",
       "      <th>1(freq)</th>\n",
       "      <td>0.028854</td>\n",
       "      <td>-0.149393</td>\n",
       "      <td>0.234579</td>\n",
       "      <td>1.000000</td>\n",
       "      <td>0.180499</td>\n",
       "      <td>-0.117210</td>\n",
       "      <td>0.110783</td>\n",
       "      <td>-0.166318</td>\n",
       "      <td>0.159430</td>\n",
       "      <td>-0.121873</td>\n",
       "      <td>0.188277</td>\n",
       "      <td>-0.114601</td>\n",
       "    </tr>\n",
       "    <tr>\n",
       "      <th>2mm(amp)</th>\n",
       "      <td>0.545110</td>\n",
       "      <td>0.348404</td>\n",
       "      <td>0.504923</td>\n",
       "      <td>0.180499</td>\n",
       "      <td>1.000000</td>\n",
       "      <td>-0.555570</td>\n",
       "      <td>0.949309</td>\n",
       "      <td>-0.888035</td>\n",
       "      <td>0.964871</td>\n",
       "      <td>-0.922973</td>\n",
       "      <td>0.971518</td>\n",
       "      <td>-0.930967</td>\n",
       "    </tr>\n",
       "    <tr>\n",
       "      <th>2(freq)</th>\n",
       "      <td>-0.199983</td>\n",
       "      <td>-0.187529</td>\n",
       "      <td>-0.684974</td>\n",
       "      <td>-0.117210</td>\n",
       "      <td>-0.555570</td>\n",
       "      <td>1.000000</td>\n",
       "      <td>-0.506156</td>\n",
       "      <td>0.500267</td>\n",
       "      <td>-0.577287</td>\n",
       "      <td>0.556970</td>\n",
       "      <td>-0.642105</td>\n",
       "      <td>0.593257</td>\n",
       "    </tr>\n",
       "    <tr>\n",
       "      <th>3mm(amp)</th>\n",
       "      <td>0.671611</td>\n",
       "      <td>0.296081</td>\n",
       "      <td>0.416853</td>\n",
       "      <td>0.110783</td>\n",
       "      <td>0.949309</td>\n",
       "      <td>-0.506156</td>\n",
       "      <td>1.000000</td>\n",
       "      <td>-0.930539</td>\n",
       "      <td>0.989119</td>\n",
       "      <td>-0.970015</td>\n",
       "      <td>0.947669</td>\n",
       "      <td>-0.949560</td>\n",
       "    </tr>\n",
       "    <tr>\n",
       "      <th>3(freq)</th>\n",
       "      <td>-0.644586</td>\n",
       "      <td>-0.281866</td>\n",
       "      <td>-0.336996</td>\n",
       "      <td>-0.166318</td>\n",
       "      <td>-0.888035</td>\n",
       "      <td>0.500267</td>\n",
       "      <td>-0.930539</td>\n",
       "      <td>1.000000</td>\n",
       "      <td>-0.922961</td>\n",
       "      <td>0.915868</td>\n",
       "      <td>-0.886326</td>\n",
       "      <td>0.882221</td>\n",
       "    </tr>\n",
       "    <tr>\n",
       "      <th>4mm(amp)</th>\n",
       "      <td>0.626290</td>\n",
       "      <td>0.322197</td>\n",
       "      <td>0.499523</td>\n",
       "      <td>0.159430</td>\n",
       "      <td>0.964871</td>\n",
       "      <td>-0.577287</td>\n",
       "      <td>0.989119</td>\n",
       "      <td>-0.922961</td>\n",
       "      <td>1.000000</td>\n",
       "      <td>-0.977523</td>\n",
       "      <td>0.974617</td>\n",
       "      <td>-0.972733</td>\n",
       "    </tr>\n",
       "    <tr>\n",
       "      <th>4(freq)</th>\n",
       "      <td>-0.592310</td>\n",
       "      <td>-0.355097</td>\n",
       "      <td>-0.470293</td>\n",
       "      <td>-0.121873</td>\n",
       "      <td>-0.922973</td>\n",
       "      <td>0.556970</td>\n",
       "      <td>-0.970015</td>\n",
       "      <td>0.915868</td>\n",
       "      <td>-0.977523</td>\n",
       "      <td>1.000000</td>\n",
       "      <td>-0.939588</td>\n",
       "      <td>0.961216</td>\n",
       "    </tr>\n",
       "    <tr>\n",
       "      <th>5mm(amp)</th>\n",
       "      <td>0.546443</td>\n",
       "      <td>0.337149</td>\n",
       "      <td>0.580678</td>\n",
       "      <td>0.188277</td>\n",
       "      <td>0.971518</td>\n",
       "      <td>-0.642105</td>\n",
       "      <td>0.947669</td>\n",
       "      <td>-0.886326</td>\n",
       "      <td>0.974617</td>\n",
       "      <td>-0.939588</td>\n",
       "      <td>1.000000</td>\n",
       "      <td>-0.947383</td>\n",
       "    </tr>\n",
       "    <tr>\n",
       "      <th>5(freq)</th>\n",
       "      <td>-0.552625</td>\n",
       "      <td>-0.390062</td>\n",
       "      <td>-0.554387</td>\n",
       "      <td>-0.114601</td>\n",
       "      <td>-0.930967</td>\n",
       "      <td>0.593257</td>\n",
       "      <td>-0.949560</td>\n",
       "      <td>0.882221</td>\n",
       "      <td>-0.972733</td>\n",
       "      <td>0.961216</td>\n",
       "      <td>-0.947383</td>\n",
       "      <td>1.000000</td>\n",
       "    </tr>\n",
       "  </tbody>\n",
       "</table>\n",
       "</div>"
      ],
      "text/plain": [
       "            0.5mm(amp)  0.5(freq)  1mm(amp)   1(freq)  2mm(amp)   2(freq)  \\\n",
       "0.5mm(amp)    1.000000  -0.146323 -0.032309  0.028854  0.545110 -0.199983   \n",
       "0.5(freq)    -0.146323   1.000000  0.235082 -0.149393  0.348404 -0.187529   \n",
       "1mm(amp)     -0.032309   0.235082  1.000000  0.234579  0.504923 -0.684974   \n",
       "1(freq)       0.028854  -0.149393  0.234579  1.000000  0.180499 -0.117210   \n",
       "2mm(amp)      0.545110   0.348404  0.504923  0.180499  1.000000 -0.555570   \n",
       "2(freq)      -0.199983  -0.187529 -0.684974 -0.117210 -0.555570  1.000000   \n",
       "3mm(amp)      0.671611   0.296081  0.416853  0.110783  0.949309 -0.506156   \n",
       "3(freq)      -0.644586  -0.281866 -0.336996 -0.166318 -0.888035  0.500267   \n",
       "4mm(amp)      0.626290   0.322197  0.499523  0.159430  0.964871 -0.577287   \n",
       "4(freq)      -0.592310  -0.355097 -0.470293 -0.121873 -0.922973  0.556970   \n",
       "5mm(amp)      0.546443   0.337149  0.580678  0.188277  0.971518 -0.642105   \n",
       "5(freq)      -0.552625  -0.390062 -0.554387 -0.114601 -0.930967  0.593257   \n",
       "\n",
       "            3mm(amp)   3(freq)  4mm(amp)   4(freq)  5mm(amp)   5(freq)  \n",
       "0.5mm(amp)  0.671611 -0.644586  0.626290 -0.592310  0.546443 -0.552625  \n",
       "0.5(freq)   0.296081 -0.281866  0.322197 -0.355097  0.337149 -0.390062  \n",
       "1mm(amp)    0.416853 -0.336996  0.499523 -0.470293  0.580678 -0.554387  \n",
       "1(freq)     0.110783 -0.166318  0.159430 -0.121873  0.188277 -0.114601  \n",
       "2mm(amp)    0.949309 -0.888035  0.964871 -0.922973  0.971518 -0.930967  \n",
       "2(freq)    -0.506156  0.500267 -0.577287  0.556970 -0.642105  0.593257  \n",
       "3mm(amp)    1.000000 -0.930539  0.989119 -0.970015  0.947669 -0.949560  \n",
       "3(freq)    -0.930539  1.000000 -0.922961  0.915868 -0.886326  0.882221  \n",
       "4mm(amp)    0.989119 -0.922961  1.000000 -0.977523  0.974617 -0.972733  \n",
       "4(freq)    -0.970015  0.915868 -0.977523  1.000000 -0.939588  0.961216  \n",
       "5mm(amp)    0.947669 -0.886326  0.974617 -0.939588  1.000000 -0.947383  \n",
       "5(freq)    -0.949560  0.882221 -0.972733  0.961216 -0.947383  1.000000  "
      ]
     },
     "execution_count": 16,
     "metadata": {},
     "output_type": "execute_result"
    }
   ],
   "source": [
    "data.corr()"
   ]
  },
  {
   "cell_type": "markdown",
   "id": "eb2a8594",
   "metadata": {},
   "source": [
    "# Training The model \n",
    "## [Target variable=0.5(freq)]"
   ]
  },
  {
   "cell_type": "code",
   "execution_count": 17,
   "id": "656fdd3a",
   "metadata": {},
   "outputs": [],
   "source": [
    "X = data.drop(columns=['0.5(freq)'])\n",
    "y = data['0.5(freq)']"
   ]
  },
  {
   "cell_type": "code",
   "execution_count": 18,
   "id": "64b5d61f",
   "metadata": {},
   "outputs": [],
   "source": [
    "X_train, X_test, y_train, y_test = train_test_split(X, y, test_size=0.2, random_state=42)"
   ]
  },
  {
   "cell_type": "code",
   "execution_count": 19,
   "id": "cbcc2d0d",
   "metadata": {},
   "outputs": [
    {
     "data": {
      "text/plain": [
       "SVR()"
      ]
     },
     "execution_count": 19,
     "metadata": {},
     "output_type": "execute_result"
    }
   ],
   "source": [
    "svm = SVR(kernel='rbf')  \n",
    "svm.fit(X_train, y_train)"
   ]
  },
  {
   "cell_type": "markdown",
   "id": "4cd668e0",
   "metadata": {},
   "source": [
    "# Testing the model"
   ]
  },
  {
   "cell_type": "code",
   "execution_count": 20,
   "id": "c2d45238",
   "metadata": {},
   "outputs": [],
   "source": [
    "y_pred = svm.predict(X_test)"
   ]
  },
  {
   "cell_type": "markdown",
   "id": "6a389ca2",
   "metadata": {},
   "source": [
    "# Accuracy and error calculations"
   ]
  },
  {
   "cell_type": "code",
   "execution_count": 21,
   "id": "2d2bd432",
   "metadata": {},
   "outputs": [],
   "source": [
    "mse = mean_squared_error(y_test, y_pred)\n",
    "rmse = mse ** 0.5\n",
    "mae = mean_absolute_error(y_test, y_pred)\n",
    "r2 = r2_score(y_test, y_pred)"
   ]
  },
  {
   "cell_type": "code",
   "execution_count": 22,
   "id": "23db5cc0",
   "metadata": {},
   "outputs": [
    {
     "name": "stdout",
     "output_type": "stream",
     "text": [
      "Mean Squared Error: 17.397102077802064\n",
      "Root Mean Squared Error: 4.17098334662248\n",
      "Mean Absolute Error: 3.5676132006541468\n",
      "R-squared: 0.08460027087662203\n"
     ]
    }
   ],
   "source": [
    "print(f\"Mean Squared Error: {mse}\")\n",
    "print(f\"Root Mean Squared Error: {rmse}\")\n",
    "print(f\"Mean Absolute Error: {mae}\")\n",
    "print(f\"R-squared: {r2}\")"
   ]
  },
  {
   "cell_type": "markdown",
   "id": "675b81ca",
   "metadata": {},
   "source": [
    "# Resulting prediction"
   ]
  },
  {
   "cell_type": "code",
   "execution_count": 23,
   "id": "44fc67fb",
   "metadata": {},
   "outputs": [
    {
     "name": "stdout",
     "output_type": "stream",
     "text": [
      "First few predictions:\n",
      "129.86573441814517\n",
      "127.80907458342558\n",
      "129.39661168870904\n",
      "128.2036250495358\n",
      "127.34498954902679\n",
      "127.41235905512082\n",
      "130.1911768120736\n"
     ]
    }
   ],
   "source": [
    "print(\"First few predictions:\")\n",
    "for a in y_pred:\n",
    "    print(a)"
   ]
  }
 ],
 "metadata": {
  "kernelspec": {
   "display_name": "Python 3 (ipykernel)",
   "language": "python",
   "name": "python3"
  },
  "language_info": {
   "codemirror_mode": {
    "name": "ipython",
    "version": 3
   },
   "file_extension": ".py",
   "mimetype": "text/x-python",
   "name": "python",
   "nbconvert_exporter": "python",
   "pygments_lexer": "ipython3",
   "version": "3.9.7"
  }
 },
 "nbformat": 4,
 "nbformat_minor": 5
}
